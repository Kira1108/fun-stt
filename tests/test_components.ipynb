{
 "cells": [
  {
   "cell_type": "code",
   "execution_count": 1,
   "id": "71422e67",
   "metadata": {},
   "outputs": [],
   "source": [
    "\n",
    "import sys\n",
    "sys.path.append(\"..\")\n",
    "\n",
    "from simple_stt.utils import iterate_600ms_chunks\n",
    "from simple_stt.onnx import FsmnVadOnlineOnnx\n",
    "from simple_stt.onnx import ParaformerOnlineOnnx\n",
    "from simple_stt.onnx import SeacoParaformerOfflineOnnx\n",
    "from simple_stt.onnx import CTPuncOfflineOnnx\n",
    "import json\n",
    "import soundfile"
   ]
  },
  {
   "cell_type": "markdown",
   "id": "26fa29ee",
   "metadata": {},
   "source": [
    "**Test Vad**"
   ]
  },
  {
   "cell_type": "code",
   "execution_count": 16,
   "id": "0712ef06",
   "metadata": {},
   "outputs": [
    {
     "name": "stdout",
     "output_type": "stream",
     "text": [
      "(-1, -1)\n",
      "(740, -1)\n",
      "(-1, -1)\n",
      "(-1, 2060)\n",
      "(-1, -1)\n",
      "(2940, -1)\n",
      "(-1, -1)\n",
      "(-1, 4400)\n",
      "(4850, -1)\n",
      "(-1, -1)\n",
      "(-1, -1)\n",
      "(-1, 6640)\n",
      "(-1, -1)\n",
      "(7780, -1)\n",
      "(-1, -1)\n",
      "(-1, 9580)\n"
     ]
    }
   ],
   "source": [
    "model = FsmnVadOnlineOnnx()\n",
    "\n",
    "model.clear_model_cache() \n",
    "for audio, is_final in iterate_600ms_chunks(\n",
    "    \"/Users/wanghuan/Projects/simple-stt/recording.wav\"):\n",
    "    \n",
    "    res = model.run(speech=audio, is_final=is_final)\n",
    "    \n",
    "    if res:\n",
    "        print(res)"
   ]
  },
  {
   "cell_type": "markdown",
   "id": "d586ed65",
   "metadata": {},
   "source": [
    "**Test Paraformer Online**\n",
    "\n",
    "\n"
   ]
  },
  {
   "cell_type": "code",
   "execution_count": 8,
   "id": "75fb7e7e",
   "metadata": {},
   "outputs": [
    {
     "name": "stdout",
     "output_type": "stream",
     "text": [
      "你好你\n",
      "好\n",
      "今\n",
      "天你开心\n",
      "吗\n",
      "你们公司有\n",
      "什么产品\n",
      "你\n",
      "们公司是\n",
      "做金融的吗\n"
     ]
    }
   ],
   "source": [
    "ponline = ParaformerOnlineOnnx()\n",
    "\n",
    "ponline.clear_model_cache()\n",
    "from simple_stt.utils import iterate_600ms_chunks\n",
    "\n",
    "def async_asr_online(audio_in, is_final = False):\n",
    "    if len(audio_in) > 0:\n",
    "        rec_result = ponline.run(audio_in, is_final = is_final)\n",
    "        if rec_result:\n",
    "            return rec_result\n",
    "        \n",
    "for audio, is_final in iterate_600ms_chunks(\n",
    "    \"/Users/wanghuan/Projects/simple-stt/recording.wav\"):\n",
    "    \n",
    "    res = async_asr_online(audio, is_final = is_final)\n",
    "    if res:\n",
    "        print(res)"
   ]
  },
  {
   "cell_type": "markdown",
   "id": "8e8243dc",
   "metadata": {},
   "source": [
    "**Test Paraformer Offline**"
   ]
  },
  {
   "cell_type": "code",
   "execution_count": 5,
   "id": "dc612dcf",
   "metadata": {},
   "outputs": [
    {
     "data": {
      "text/plain": [
       "'你好你好今天你开心吗你们公司有什么产品你们公司是做金融的吗'"
      ]
     },
     "execution_count": 5,
     "metadata": {},
     "output_type": "execute_result"
    }
   ],
   "source": [
    "speech, sr = soundfile.read(\n",
    "    \"/Users/wanghuan/Projects/simple-stt/recording.wav\",\n",
    ")\n",
    "\n",
    "offline_model = SeacoParaformerOfflineOnnx()\n",
    "\n",
    "offline_model.run(speech)\n"
   ]
  },
  {
   "cell_type": "markdown",
   "id": "eca199df",
   "metadata": {},
   "source": [
    "**Test Punctuation**"
   ]
  },
  {
   "cell_type": "code",
   "execution_count": 2,
   "id": "7718e437",
   "metadata": {},
   "outputs": [
    {
     "name": "stdout",
     "output_type": "stream",
     "text": [
      ".onnx does not exist, begin to export onnx\n",
      "funasr version: 1.2.6.\n",
      "Check update of funasr, and it would cost few times. You may disable it by set `disable_update=True` in AutoModel\n",
      "You are using the latest version of funasr-1.2.6\n"
     ]
    },
    {
     "name": "stderr",
     "output_type": "stream",
     "text": [
      "Building prefix dict from the default dictionary ...\n",
      "DEBUG:jieba:Building prefix dict from the default dictionary ...\n",
      "Loading model from cache /var/folders/9z/tc5kc_854l56plrg75dhnr7r0000gn/T/jieba.cache\n",
      "DEBUG:jieba:Loading model from cache /var/folders/9z/tc5kc_854l56plrg75dhnr7r0000gn/T/jieba.cache\n",
      "Loading model cost 0.256 seconds.\n",
      "DEBUG:jieba:Loading model cost 0.256 seconds.\n",
      "Prefix dict has been built successfully.\n",
      "DEBUG:jieba:Prefix dict has been built successfully.\n"
     ]
    }
   ],
   "source": [
    "punc = CTPuncOfflineOnnx()"
   ]
  },
  {
   "cell_type": "code",
   "execution_count": 4,
   "id": "aed0366d",
   "metadata": {},
   "outputs": [
    {
     "data": {
      "text/plain": [
       "'你好你好，今天你开心吗？你们公司有什么产品？你们公司是做金融的吗？'"
      ]
     },
     "execution_count": 4,
     "metadata": {},
     "output_type": "execute_result"
    }
   ],
   "source": [
    "punc.run(\"你好你好今天你开心吗你们公司有什么产品你们公司是做金融的吗\")"
   ]
  }
 ],
 "metadata": {
  "kernelspec": {
   "display_name": "base",
   "language": "python",
   "name": "python3"
  },
  "language_info": {
   "codemirror_mode": {
    "name": "ipython",
    "version": 3
   },
   "file_extension": ".py",
   "mimetype": "text/x-python",
   "name": "python",
   "nbconvert_exporter": "python",
   "pygments_lexer": "ipython3",
   "version": "3.10.9"
  }
 },
 "nbformat": 4,
 "nbformat_minor": 5
}
