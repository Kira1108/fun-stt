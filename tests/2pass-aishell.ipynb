{
 "cells": [
  {
   "cell_type": "code",
   "execution_count": 19,
   "id": "3ab6cd71",
   "metadata": {},
   "outputs": [],
   "source": [
    "import pandas as pd\n",
    "from pathlib import Path\n",
    "import json\n",
    "import jieba\n",
    "results = []\n",
    "\n",
    "for fp in Path(\"/Users/wanghuan/Projects/simple-stt/outputs-aishell1\").glob(\"*.json\"):\n",
    "    with open(fp, \"r\") as f:\n",
    "        d = json.load(f)\n",
    "        \n",
    "    text = \"\".join([r[\"text\"] for r in d])\n",
    "    results.append([fp.stem, text])\n",
    "    \n",
    "actuals = pd.read_feather(\"/Users/wanghuan/Projects/simple-stt/aishell/transcriptions.fth\")\n",
    "actuals['text'] = actuals['text'].str.replace(\" \", \"\")\n",
    "actuals.rename(columns = {'text':'target'}, inplace = True)\n",
    "    \n",
    "preds = pd.DataFrame(results, columns = ['fname','pred'])\n",
    "merged = actuals.merge(preds, on='fname', how='inner')"
   ]
  },
  {
   "cell_type": "code",
   "execution_count": 20,
   "id": "2d3b41ea",
   "metadata": {},
   "outputs": [],
   "source": [
    "def remove_punctuation(text):\n",
    "    text = str(text)\n",
    "    import re\n",
    "    return re.sub(r'[^\\w\\s]', '', text)\n",
    "\n",
    "def jieba_cut(text):\n",
    "    text = str(text)\n",
    "    return \" \".join(jieba.cut(text))\n",
    "\n",
    "merged['pred'] = merged['pred'].apply(remove_punctuation)\n",
    "merged['target'] = merged['target'].apply(remove_punctuation)\n",
    "merged['pred-cut'] = merged['pred'].apply(jieba_cut)\n",
    "merged['target-cut'] = merged['target'].apply(jieba_cut)\n"
   ]
  },
  {
   "cell_type": "code",
   "execution_count": 21,
   "id": "dda43534",
   "metadata": {},
   "outputs": [
    {
     "name": "stdout",
     "output_type": "stream",
     "text": [
      "Average WER: 0.05195813255372078\n",
      "Average CER: 0.026795684767837814\n"
     ]
    }
   ],
   "source": [
    "import jiwer\n",
    "import numpy as np\n",
    "wers = []\n",
    "cers = []\n",
    "for i, row in merged.iterrows():\n",
    "    wer = jiwer.wer(row['pred-cut'], row['target-cut'])\n",
    "    wers.append(wer)\n",
    "    \n",
    "    cer = jiwer.cer(row['pred'], row['target'])\n",
    "    cers.append(cer)\n",
    "    \n",
    "\n",
    "merged['wer'] = wers\n",
    "merged['cer'] = cers\n",
    "print(f\"Average WER: {np.mean(wers)}\")\n",
    "print(f\"Average CER: {np.mean(cers)}\")"
   ]
  },
  {
   "cell_type": "code",
   "execution_count": 12,
   "id": "a6fcd6ef",
   "metadata": {},
   "outputs": [
    {
     "data": {
      "application/vnd.microsoft.datawrangler.viewer.v0+json": {
       "columns": [
        {
         "name": "index",
         "rawType": "int64",
         "type": "integer"
        },
        {
         "name": "fname",
         "rawType": "object",
         "type": "string"
        },
        {
         "name": "target",
         "rawType": "object",
         "type": "string"
        },
        {
         "name": "pred",
         "rawType": "object",
         "type": "string"
        },
        {
         "name": "pred-cut",
         "rawType": "object",
         "type": "string"
        },
        {
         "name": "target-cut",
         "rawType": "object",
         "type": "string"
        },
        {
         "name": "wer",
         "rawType": "float64",
         "type": "float"
        },
        {
         "name": "cer",
         "rawType": "float64",
         "type": "float"
        }
       ],
       "ref": "12d693e6-c0ca-4fc3-a9e8-b4dfa025a538",
       "rows": [
        [
         "0",
         "BAC009S0901W0146",
         "本轮住房公积金房贷政策调整\n",
         "本轮住房公积金房贷政策调整",
         "本轮 住房 公积金 房贷 政策 调整",
         "本轮 住房 公积金 房贷 政策 调整 \n",
         "0.0",
         "0.0"
        ],
        [
         "1",
         "BAC009S0901W0152",
         "其中刚需买家入市积极性明显提高\n",
         "其中刚需买家入市积极性明显提高",
         "其中 刚需 买家 入市 积极性 明显提高",
         "其中 刚需 买家 入市 积极性 明显提高 \n",
         "0.0",
         "0.0"
        ],
        [
         "2",
         "BAC009S0901W0185",
         "现在公积金贷款办理需要一个月左右的时间\n",
         "现在公积金贷款办理需要一个月左右的时间",
         "现在 公积金 贷款 办理 需要 一个月 左右 的 时间",
         "现在 公积金 贷款 办理 需要 一个月 左右 的 时间 \n",
         "0.0",
         "0.0"
        ],
        [
         "3",
         "BAC009S0901W0191",
         "信息化水平不断提高\n",
         "信息化水平不断提高",
         "信息化 水平 不断 提高",
         "信息化 水平 不断 提高 \n",
         "0.0",
         "0.0"
        ],
        [
         "4",
         "BAC009S0901W0218",
         "指导思想基本原则与发展目标\n",
         "指导思想基本原则与发展目标",
         "指导思想 基本 原则 与 发展 目标",
         "指导思想 基本 原则 与 发展 目标 \n",
         "0.0",
         "0.0"
        ],
        [
         "5",
         "BAC009S0901W0219",
         "以邓小平理论和三个代表重要思想为指导\n",
         "以邓小平理论和三个代表重要思想为指导",
         "以 邓小平理论 和 三个代表 重要 思想 为 指导",
         "以 邓小平理论 和 三个代表 重要 思想 为 指导 \n",
         "0.0",
         "0.0"
        ],
        [
         "6",
         "BAC009S0901W0224",
         "着力完善现代农业产业体系\n",
         "着力完善现代农业产业体系",
         "着力 完善 现代 农业产业 体系",
         "着力 完善 现代 农业产业 体系 \n",
         "0.0",
         "0.0"
        ],
        [
         "7",
         "BAC009S0901W0225",
         "提高农业现代化水平农民生活水平和新农村建设水平\n",
         "提高农业现代化水平农农民生活水平和新农村建设水平",
         "提高 农业 现代化 水平 农 农民 生活 水平 和 新 农村 建设 水平",
         "提高 农业 现代化 水平 农民 生活 水平 和 新 农村 建设 水平 \n",
         "0.07692307692307693",
         "0.041666666666666664"
        ],
        [
         "8",
         "BAC009S0901W0230",
         "着力提高粮食综合生产能力\n",
         "着力提升粮食综合生产能力",
         "着力 提升 粮食 综合 生产能力",
         "着力 提高 粮食 综合 生产能力 \n",
         "0.2",
         "0.08333333333333333"
        ],
        [
         "9",
         "BAC009S0901W0231",
         "坚持和完善农村基本经营制度\n",
         "坚持和完善农村基本经营制度",
         "坚持 和 完善 农村 基本 经营 制度",
         "坚持 和 完善 农村 基本 经营 制度 \n",
         "0.0",
         "0.0"
        ],
        [
         "10",
         "BAC009S0901W0344",
         "已经确定本赛季不会参加任何的比赛\n",
         "已经确定本赛季不会参加任何的比赛",
         "已经 确定 本赛季 不会 参加 任何 的 比赛",
         "已经 确定 本赛季 不会 参加 任何 的 比赛 \n",
         "0.0",
         "0.0"
        ],
        [
         "11",
         "BAC009S0901W0350",
         "去年的索契冬奥会上\n",
         "去年的索切冬奥会上",
         "去年 的 索切 冬奥会 上",
         "去年 的 索契 冬奥会 上 \n",
         "0.2",
         "0.1111111111111111"
        ],
        [
         "12",
         "BAC009S0901W0378",
         "据韩国体育首尔的最新消息\n",
         "据韩国体育首尔的最新消息",
         "据 韩国 体育 首尔 的 最新消息",
         "据 韩国 体育 首尔 的 最新消息 \n",
         "0.0",
         "0.0"
        ],
        [
         "13",
         "BAC009S0901W0387",
         "因为服用禁药被停赛的选手在禁赛期满起的三年内\n",
         "因为服用禁药被停赛的选手在在禁赛期满体的三年内",
         "因为 服用 禁药 被 停赛 的 选手 在 在 禁赛期 满体 的 三年 内",
         "因为 服用 禁药 被 停赛 的 选手 在 禁赛期 满起 的 三年 内 \n",
         "0.14285714285714285",
         "0.08695652173913043"
        ],
        [
         "14",
         "BAC009S0901W0393",
         "大韩体育会这一计划的顺利实施\n",
         "大韩体育会这一计划的顺利实施",
         "大 韩 体育 会 这 一 计划 的 顺利 实施",
         "大 韩 体育 会 这 一 计划 的 顺利 实施 \n",
         "0.0",
         "0.0"
        ],
        [
         "15",
         "BAC009S0901W0422",
         "感情事备受关注\n",
         "感情是备受关注",
         "感情 是 备受 关注",
         "感情 事 备受 关注 \n",
         "0.25",
         "0.14285714285714285"
        ],
        [
         "16",
         "BAC009S0901W0436",
         "本报讯记者汪红日前\n",
         "本报讯记者汪红日前",
         "本报讯 记者 汪红 日前",
         "本报讯 记者 汪红 日前 \n",
         "0.0",
         "0.0"
        ],
        [
         "17",
         "BAC009S0902W0129",
         "这对于目前一线城市来说很紧要\n",
         "这对于目前一线城市来说很紧要",
         "这 对于 目前 一线 城市 来说 很 紧要",
         "这 对于 目前 一线 城市 来说 很 紧要 \n",
         "0.0",
         "0.0"
        ],
        [
         "18",
         "BAC009S0902W0262",
         "销量都会有一定的影响\n",
         "销量都会有一定的影响",
         "销量 都 会 有 一定 的 影响",
         "销量 都 会 有 一定 的 影响 \n",
         "0.0",
         "0.0"
        ],
        [
         "19",
         "BAC009S0902W0263",
         "孙永杰对二十一世纪报道记者表示\n",
         "孙颖杰对二十一世纪报道记者表示",
         "孙颖杰 对 二十一 世纪 报道 记者 表示",
         "孙永杰 对 二十一 世纪 报道 记者 表示 \n",
         "0.14285714285714285",
         "0.06666666666666667"
        ],
        [
         "20",
         "BAC009S0902W0277",
         "降至二十六点零六万亿韩元\n",
         "降至二十六点零六万亿韩元",
         "降 至 二十六点 零六 万亿韩元",
         "降 至 二十六点 零六 万亿韩元 \n",
         "0.0",
         "0.0"
        ],
        [
         "21",
         "BAC009S0902W0288",
         "而这对于未来苹果保持高利润和利润率至关重要\n",
         "而这对于未来苹果保持高利润和利润率至关重要",
         "而 这 对于 未来 苹果 保持 高 利润 和 利润率 至关重要",
         "而 这 对于 未来 苹果 保持 高 利润 和 利润率 至关重要 \n",
         "0.0",
         "0.0"
        ],
        [
         "22",
         "BAC009S0902W0289",
         "这对苹果是一个利好\n",
         "这对苹果是一个利好",
         "这 对 苹果 是 一个 利好",
         "这 对 苹果 是 一个 利好 \n",
         "0.0",
         "0.0"
        ],
        [
         "23",
         "BAC009S0902W0303",
         "云计算和大数据时代\n",
         "云计算和大数据时代",
         "云 计算 和 大 数据 时代",
         "云 计算 和 大 数据 时代 \n",
         "0.0",
         "0.0"
        ],
        [
         "24",
         "BAC009S0902W0317",
         "很多家长都在给孩子购置各种学习用品\n",
         "很多家长都在给孩子购置各种学习用品",
         "很多 家长 都 在 给 孩子 购置 各种 学习用品",
         "很多 家长 都 在 给 孩子 购置 各种 学习用品 \n",
         "0.0",
         "0.0"
        ],
        [
         "25",
         "BAC009S0902W0459",
         "但渣土车司机肇事后不仅没有下车救援\n",
         "但渣土车司机肇事后不仅没有下车救援",
         "但 渣土 车 司机 肇事 后 不仅 没有 下车 救援",
         "但 渣土 车 司机 肇事 后 不仅 没有 下车 救援 \n",
         "0.0",
         "0.0"
        ],
        [
         "26",
         "BAC009S0902W0465",
         "长沙县湘龙西路一处十字路口\n",
         "长沙县香龙西路一处十字路口",
         "长沙县 香龙 西路 一处 十字路口",
         "长沙县 湘龙 西路 一处 十字路口 \n",
         "0.2",
         "0.07692307692307693"
        ],
        [
         "27",
         "BAC009S0902W0471",
         "连续撞了五辆小轿车最终才停了下来\n",
         "连续撞了五辆小轿车最终才停了下来",
         "连续 撞 了 五辆 小轿车 最终 才 停 了 下来",
         "连续 撞 了 五辆 小轿车 最终 才 停 了 下来 \n",
         "0.0",
         "0.0"
        ],
        [
         "28",
         "BAC009S0903W0129",
         "北上广深四个一线城市已经全部放开公积金房贷业\n",
         "北上广深四个一线城市已经全部放开公积金房贷半业",
         "北上 广深 四个 一线 城市 已经 全部 放开 公积金 房贷 半业",
         "北上 广深 四个 一线 城市 已经 全部 放开 公积金 房贷 业 \n",
         "0.09090909090909091",
         "0.043478260869565216"
        ],
        [
         "29",
         "BAC009S0903W0262",
         "瞬间将苹果估价拉低了至少百分之六\n",
         "瞬间将苹果估价拉低了至少百分之六",
         "瞬间 将 苹果 估价 拉低 了 至少 百分之六",
         "瞬间 将 苹果 估价 拉低 了 至少 百分之六 \n",
         "0.0",
         "0.0"
        ],
        [
         "30",
         "BAC009S0903W0263",
         "使其市值分秒间蒸发近四百亿美元\n",
         "使其市值分秒间蒸发近四百亿美元",
         "使 其 市值 分秒 间 蒸发 近 四百亿美元",
         "使 其 市值 分秒 间 蒸发 近 四百亿美元 \n",
         "0.0",
         "0.0"
        ],
        [
         "31",
         "BAC009S0903W0276",
         "当出现此类价格变化时\n",
         "当出现此类价格变化时",
         "当 出现 此类 价格 变化 时",
         "当 出现 此类 价格 变化 时 \n",
         "0.0",
         "0.0"
        ],
        [
         "32",
         "BAC009S0903W0277",
         "通常只是算法交易造成的影响\n",
         "通常只是算法交易造成的影响",
         "通常 只是 算法 交易 造成 的 影响",
         "通常 只是 算法 交易 造成 的 影响 \n",
         "0.0",
         "0.0"
        ],
        [
         "33",
         "BAC009S0903W0288",
         "纳斯达克在此期间只涨了百分之十\n",
         "威斯达克在此期间只涨了百分之十",
         "威斯 达克 在此期间 只涨 了 百分之十",
         "纳斯达克 在此期间 只涨 了 百分之十 \n",
         "0.3333333333333333",
         "0.06666666666666667"
        ],
        [
         "34",
         "BAC009S0903W0289",
         "选择套现或也是情理之中\n",
         "选择套现或也是情理之中",
         "选择 套现 或 也 是 情理之中",
         "选择 套现 或 也 是 情理之中 \n",
         "0.0",
         "0.0"
        ],
        [
         "35",
         "BAC009S0903W0303",
         "很多家长都考虑给孩子配置具有定位功能的智能手机\n",
         "很多家长都考虑给孩子配置具定位位功能智智能手机",
         "很多 家长 都 考虑 给 孩子 配置 具 定位 位 功能 智 智能手机",
         "很多 家长 都 考虑 给 孩子 配置 具有 定位 功能 的 智能手机 \n",
         "0.23076923076923078",
         "0.13043478260869565"
        ],
        [
         "36",
         "BAC009S0903W0317",
         "儿童电话手表正好解决了这两个问题\n",
         "儿童电话手表正好解决了这两个问题",
         "儿童 电话 手表 正好 解决 了 这 两个 问题",
         "儿童 电话 手表 正好 解决 了 这 两个 问题 \n",
         "0.0",
         "0.0"
        ],
        [
         "37",
         "BAC009S0903W0459",
         "温州天价馒头续店方称顾客要狭索赔三条中华烟\n",
         "温州天价馒头序店方称顾客要瞎索赔三条中华烟",
         "温州 天价 馒头 序 店方 称 顾客 要 瞎 索赔 三条 中华烟",
         "温州 天价 馒头 续 店方 称 顾客 要 狭 索赔 三条 中华烟 \n",
         "0.16666666666666666",
         "0.09523809523809523"
        ],
        [
         "38",
         "BAC009S0903W0465",
         "温州火锅先生后续涉案者父亲写公开道歉信\n",
         "温州火锅先生后据涉案者附父亲写公开道歉信",
         "温州 火锅 先生 后据 涉案者 附 父亲 写 公开 道歉信",
         "温州 火锅 先生 后续 涉案者 父亲 写 公开 道歉信 \n",
         "0.2",
         "0.1"
        ],
        [
         "39",
         "BAC009S0903W0471",
         "孩子仍处于昏迷阶段\n",
         "孩子仍处于昏迷阶段",
         "孩子 仍 处于 昏迷 阶段",
         "孩子 仍 处于 昏迷 阶段 \n",
         "0.0",
         "0.0"
        ],
        [
         "40",
         "BAC009S0904W0158",
         "扶持刚需客群已经成为北京房地产调控的主要方向\n",
         "扶持刚需客群已经成为北京房地产调控的主要方向",
         "扶持 刚 需客 群 已经 成为 北京 房地产 调控 的 主要 方向",
         "扶持 刚 需客 群 已经 成为 北京 房地产 调控 的 主要 方向 \n",
         "0.0",
         "0.0"
        ],
        [
         "41",
         "BAC009S0904W0164",
         "年初选择使用公积金贷款的购房者占比环比增多\n",
         "年初选择使用公积金贷款的购房者占比环比增多",
         "年初 选择 使用 公积金 贷款 的 购房者 占 比 环比 增多",
         "年初 选择 使用 公积金 贷款 的 购房者 占 比 环比 增多 \n",
         "0.0",
         "0.0"
        ],
        [
         "42",
         "BAC009S0904W0170",
         "在总成交中占比环比增加五个百分点\n",
         "在总成交中占比环比增加五个百分点",
         "在 总成交 中 占 比 环比 增加 五个 百分点",
         "在 总成交 中 占 比 环比 增加 五个 百分点 \n",
         "0.0",
         "0.0"
        ],
        [
         "43",
         "BAC009S0904W0206",
         "加大合作社经营管理人员培训培养力度\n",
         "加大合作社经营管理人员培训培养力度",
         "加大 合作社 经营 管理人员 培训 培养 力度",
         "加大 合作社 经营 管理人员 培训 培养 力度 \n",
         "0.0",
         "0.0"
        ],
        [
         "44",
         "BAC009S0904W0207",
         "加强合作社辅导员队伍建设\n",
         "加强合作社辅导员队伍建设",
         "加强 合作社 辅导员 队伍 建设",
         "加强 合作社 辅导员 队伍 建设 \n",
         "0.0",
         "0.0"
        ],
        [
         "45",
         "BAC009S0904W0212",
         "提高生产经营和市场开拓能力\n",
         "提高生产经营和市场开拓能力",
         "提高 生产 经营 和 市场 开拓 能力",
         "提高 生产 经营 和 市场 开拓 能力 \n",
         "0.0",
         "0.0"
        ],
        [
         "46",
         "BAC009S0904W0213",
         "扶持合作社建设农产品仓储冷藏初加工等设施\n",
         "扶持合作社建设农产品仓储冷藏除加工等设施",
         "扶持 合作社 建设 农产品 仓储 冷藏 除 加工 等 设施",
         "扶持 合作社 建设 农产品 仓储 冷藏 初加工 等 设施 \n",
         "0.2",
         "0.05"
        ],
        [
         "47",
         "BAC009S0904W0366",
         "甚至在头一场的比赛还影响到自己的技术发挥\n",
         "甚至在头一场的比赛还影响到自己的技术发挥",
         "甚至 在 头 一场 的 比赛 还 影响 到 自己 的 技术 发挥",
         "甚至 在 头 一场 的 比赛 还 影响 到 自己 的 技术 发挥 \n",
         "0.0",
         "0.0"
        ],
        [
         "48",
         "BAC009S0904W0372",
         "曾春蕾认为中国女排的困难体现在伤病多\n",
         "曾春蕾认为中国女排的困难体现在伤病多",
         "曾 春蕾 认为 中国女排 的 困难 体现 在 伤病 多",
         "曾 春蕾 认为 中国女排 的 困难 体现 在 伤病 多 \n",
         "0.0",
         "0.0"
        ],
        [
         "49",
         "BAC009S0904W0399",
         "深知世界杯夺冠是对过去努力的肯定\n",
         "深知世界杯夺冠是对过去努力的肯定",
         "深知 世界杯 夺冠 是 对 过去 努力 的 肯定",
         "深知 世界杯 夺冠 是 对 过去 努力 的 肯定 \n",
         "0.0",
         "0.0"
        ]
       ],
       "shape": {
        "columns": 7,
        "rows": 200
       }
      },
      "text/html": [
       "<div>\n",
       "<style scoped>\n",
       "    .dataframe tbody tr th:only-of-type {\n",
       "        vertical-align: middle;\n",
       "    }\n",
       "\n",
       "    .dataframe tbody tr th {\n",
       "        vertical-align: top;\n",
       "    }\n",
       "\n",
       "    .dataframe thead th {\n",
       "        text-align: right;\n",
       "    }\n",
       "</style>\n",
       "<table border=\"1\" class=\"dataframe\">\n",
       "  <thead>\n",
       "    <tr style=\"text-align: right;\">\n",
       "      <th></th>\n",
       "      <th>fname</th>\n",
       "      <th>target</th>\n",
       "      <th>pred</th>\n",
       "      <th>pred-cut</th>\n",
       "      <th>target-cut</th>\n",
       "      <th>wer</th>\n",
       "      <th>cer</th>\n",
       "    </tr>\n",
       "  </thead>\n",
       "  <tbody>\n",
       "    <tr>\n",
       "      <th>0</th>\n",
       "      <td>BAC009S0901W0146</td>\n",
       "      <td>本轮住房公积金房贷政策调整\\n</td>\n",
       "      <td>本轮住房公积金房贷政策调整</td>\n",
       "      <td>本轮 住房 公积金 房贷 政策 调整</td>\n",
       "      <td>本轮 住房 公积金 房贷 政策 调整 \\n</td>\n",
       "      <td>0.000000</td>\n",
       "      <td>0.000000</td>\n",
       "    </tr>\n",
       "    <tr>\n",
       "      <th>1</th>\n",
       "      <td>BAC009S0901W0152</td>\n",
       "      <td>其中刚需买家入市积极性明显提高\\n</td>\n",
       "      <td>其中刚需买家入市积极性明显提高</td>\n",
       "      <td>其中 刚需 买家 入市 积极性 明显提高</td>\n",
       "      <td>其中 刚需 买家 入市 积极性 明显提高 \\n</td>\n",
       "      <td>0.000000</td>\n",
       "      <td>0.000000</td>\n",
       "    </tr>\n",
       "    <tr>\n",
       "      <th>2</th>\n",
       "      <td>BAC009S0901W0185</td>\n",
       "      <td>现在公积金贷款办理需要一个月左右的时间\\n</td>\n",
       "      <td>现在公积金贷款办理需要一个月左右的时间</td>\n",
       "      <td>现在 公积金 贷款 办理 需要 一个月 左右 的 时间</td>\n",
       "      <td>现在 公积金 贷款 办理 需要 一个月 左右 的 时间 \\n</td>\n",
       "      <td>0.000000</td>\n",
       "      <td>0.000000</td>\n",
       "    </tr>\n",
       "    <tr>\n",
       "      <th>3</th>\n",
       "      <td>BAC009S0901W0191</td>\n",
       "      <td>信息化水平不断提高\\n</td>\n",
       "      <td>信息化水平不断提高</td>\n",
       "      <td>信息化 水平 不断 提高</td>\n",
       "      <td>信息化 水平 不断 提高 \\n</td>\n",
       "      <td>0.000000</td>\n",
       "      <td>0.000000</td>\n",
       "    </tr>\n",
       "    <tr>\n",
       "      <th>4</th>\n",
       "      <td>BAC009S0901W0218</td>\n",
       "      <td>指导思想基本原则与发展目标\\n</td>\n",
       "      <td>指导思想基本原则与发展目标</td>\n",
       "      <td>指导思想 基本 原则 与 发展 目标</td>\n",
       "      <td>指导思想 基本 原则 与 发展 目标 \\n</td>\n",
       "      <td>0.000000</td>\n",
       "      <td>0.000000</td>\n",
       "    </tr>\n",
       "    <tr>\n",
       "      <th>...</th>\n",
       "      <td>...</td>\n",
       "      <td>...</td>\n",
       "      <td>...</td>\n",
       "      <td>...</td>\n",
       "      <td>...</td>\n",
       "      <td>...</td>\n",
       "      <td>...</td>\n",
       "    </tr>\n",
       "    <tr>\n",
       "      <th>195</th>\n",
       "      <td>BAC009S0916W0419</td>\n",
       "      <td>小笼包身体有反应\\n</td>\n",
       "      <td>小笼包身体有反应</td>\n",
       "      <td>小笼包 身体 有 反应</td>\n",
       "      <td>小笼包 身体 有 反应 \\n</td>\n",
       "      <td>0.000000</td>\n",
       "      <td>0.000000</td>\n",
       "    </tr>\n",
       "    <tr>\n",
       "      <th>196</th>\n",
       "      <td>BAC009S0916W0424</td>\n",
       "      <td>陈妍希晒出与容祖儿合照\\n</td>\n",
       "      <td>陈妍希晒出与容祖儿合照</td>\n",
       "      <td>陈妍 希晒出 与 容祖儿 合照</td>\n",
       "      <td>陈妍 希晒出 与 容祖儿 合照 \\n</td>\n",
       "      <td>0.000000</td>\n",
       "      <td>0.000000</td>\n",
       "    </tr>\n",
       "    <tr>\n",
       "      <th>197</th>\n",
       "      <td>BAC009S0916W0425</td>\n",
       "      <td>并送上真挚祝福\\n</td>\n",
       "      <td>并送上真挚祝福</td>\n",
       "      <td>并 送 上 真挚 祝福</td>\n",
       "      <td>并 送 上 真挚 祝福 \\n</td>\n",
       "      <td>0.000000</td>\n",
       "      <td>0.000000</td>\n",
       "    </tr>\n",
       "    <tr>\n",
       "      <th>198</th>\n",
       "      <td>BAC009S0916W0430</td>\n",
       "      <td>获得粉丝祝福\\n</td>\n",
       "      <td>获得粉丝祝福</td>\n",
       "      <td>获得 粉丝 祝福</td>\n",
       "      <td>获得 粉丝 祝福 \\n</td>\n",
       "      <td>0.000000</td>\n",
       "      <td>0.000000</td>\n",
       "    </tr>\n",
       "    <tr>\n",
       "      <th>199</th>\n",
       "      <td>BAC009S0916W0431</td>\n",
       "      <td>湖北六小伙温州偷硬币称代表诸葛后人战刘伯温后人\\n</td>\n",
       "      <td>湖北六小伙温州偷硬币称代表诸葛后人占刘伯温后人</td>\n",
       "      <td>湖北 六 小伙 温州 偷 硬币 称 代表 诸葛 后人 占 刘伯温 后人</td>\n",
       "      <td>湖北 六 小伙 温州 偷 硬币 称 代表 诸葛 后人 战 刘伯温 后人 \\n</td>\n",
       "      <td>0.076923</td>\n",
       "      <td>0.043478</td>\n",
       "    </tr>\n",
       "  </tbody>\n",
       "</table>\n",
       "<p>200 rows × 7 columns</p>\n",
       "</div>"
      ],
      "text/plain": [
       "                fname                     target                     pred  \\\n",
       "0    BAC009S0901W0146            本轮住房公积金房贷政策调整\\n            本轮住房公积金房贷政策调整   \n",
       "1    BAC009S0901W0152          其中刚需买家入市积极性明显提高\\n          其中刚需买家入市积极性明显提高   \n",
       "2    BAC009S0901W0185      现在公积金贷款办理需要一个月左右的时间\\n      现在公积金贷款办理需要一个月左右的时间   \n",
       "3    BAC009S0901W0191                信息化水平不断提高\\n                信息化水平不断提高   \n",
       "4    BAC009S0901W0218            指导思想基本原则与发展目标\\n            指导思想基本原则与发展目标   \n",
       "..                ...                        ...                      ...   \n",
       "195  BAC009S0916W0419                 小笼包身体有反应\\n                 小笼包身体有反应   \n",
       "196  BAC009S0916W0424              陈妍希晒出与容祖儿合照\\n              陈妍希晒出与容祖儿合照   \n",
       "197  BAC009S0916W0425                  并送上真挚祝福\\n                  并送上真挚祝福   \n",
       "198  BAC009S0916W0430                   获得粉丝祝福\\n                   获得粉丝祝福   \n",
       "199  BAC009S0916W0431  湖北六小伙温州偷硬币称代表诸葛后人战刘伯温后人\\n  湖北六小伙温州偷硬币称代表诸葛后人占刘伯温后人   \n",
       "\n",
       "                                pred-cut  \\\n",
       "0                     本轮 住房 公积金 房贷 政策 调整   \n",
       "1                   其中 刚需 买家 入市 积极性 明显提高   \n",
       "2            现在 公积金 贷款 办理 需要 一个月 左右 的 时间   \n",
       "3                           信息化 水平 不断 提高   \n",
       "4                     指导思想 基本 原则 与 发展 目标   \n",
       "..                                   ...   \n",
       "195                          小笼包 身体 有 反应   \n",
       "196                      陈妍 希晒出 与 容祖儿 合照   \n",
       "197                          并 送 上 真挚 祝福   \n",
       "198                             获得 粉丝 祝福   \n",
       "199  湖北 六 小伙 温州 偷 硬币 称 代表 诸葛 后人 占 刘伯温 后人   \n",
       "\n",
       "                                 target-cut       wer       cer  \n",
       "0                     本轮 住房 公积金 房贷 政策 调整 \\n  0.000000  0.000000  \n",
       "1                   其中 刚需 买家 入市 积极性 明显提高 \\n  0.000000  0.000000  \n",
       "2            现在 公积金 贷款 办理 需要 一个月 左右 的 时间 \\n  0.000000  0.000000  \n",
       "3                           信息化 水平 不断 提高 \\n  0.000000  0.000000  \n",
       "4                     指导思想 基本 原则 与 发展 目标 \\n  0.000000  0.000000  \n",
       "..                                      ...       ...       ...  \n",
       "195                          小笼包 身体 有 反应 \\n  0.000000  0.000000  \n",
       "196                      陈妍 希晒出 与 容祖儿 合照 \\n  0.000000  0.000000  \n",
       "197                          并 送 上 真挚 祝福 \\n  0.000000  0.000000  \n",
       "198                             获得 粉丝 祝福 \\n  0.000000  0.000000  \n",
       "199  湖北 六 小伙 温州 偷 硬币 称 代表 诸葛 后人 战 刘伯温 后人 \\n  0.076923  0.043478  \n",
       "\n",
       "[200 rows x 7 columns]"
      ]
     },
     "execution_count": 12,
     "metadata": {},
     "output_type": "execute_result"
    }
   ],
   "source": [
    "merged"
   ]
  },
  {
   "cell_type": "code",
   "execution_count": 42,
   "id": "3c5fa7cd",
   "metadata": {},
   "outputs": [
    {
     "data": {
      "text/html": [
       "\n",
       "                <audio  controls=\"controls\" autoplay=\"autoplay\">\n",
       "                    <source src=\"data:audio/x-wav;base64,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\" type=\"audio/x-wav\" />\n",
       "                    Your browser does not support the audio element.\n",
       "                </audio>\n",
       "              "
      ],
      "text/plain": [
       "<IPython.lib.display.Audio object>"
      ]
     },
     "execution_count": 42,
     "metadata": {},
     "output_type": "execute_result"
    }
   ],
   "source": [
    "from IPython.display import Audio\n",
    "import soundfile\n",
    "Audio(\"../aishell/BAC009S0901W0350.wav\",autoplay=True,rate=16000)"
   ]
  }
 ],
 "metadata": {
  "kernelspec": {
   "display_name": "base",
   "language": "python",
   "name": "python3"
  },
  "language_info": {
   "codemirror_mode": {
    "name": "ipython",
    "version": 3
   },
   "file_extension": ".py",
   "mimetype": "text/x-python",
   "name": "python",
   "nbconvert_exporter": "python",
   "pygments_lexer": "ipython3",
   "version": "3.10.9"
  }
 },
 "nbformat": 4,
 "nbformat_minor": 5
}
